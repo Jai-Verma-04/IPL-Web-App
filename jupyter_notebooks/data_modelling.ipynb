{
 "cells": [
  {
   "cell_type": "code",
   "execution_count": 1,
   "metadata": {},
   "outputs": [],
   "source": [
    "import pandas as pd\n",
    "import os\n",
    "import sys"
   ]
  },
  {
   "cell_type": "code",
   "execution_count": 2,
   "metadata": {},
   "outputs": [],
   "source": [
    "current_dir = os.getcwd()\n",
    "sys.path.append(os.path.join(current_dir))"
   ]
  },
  {
   "cell_type": "code",
   "execution_count": 3,
   "metadata": {},
   "outputs": [
    {
     "name": "stderr",
     "output_type": "stream",
     "text": [
      "<>:1: SyntaxWarning: invalid escape sequence '\\d'\n",
      "<>:1: SyntaxWarning: invalid escape sequence '\\d'\n",
      "C:\\Users\\Jai\\AppData\\Local\\Temp\\ipykernel_21932\\3966880821.py:1: SyntaxWarning: invalid escape sequence '\\d'\n",
      "  deliveries = pd.read_csv('..\\data\\processed\\deliveries_processed.csv')\n"
     ]
    }
   ],
   "source": [
    "deliveries = pd.read_csv('..\\data\\processed\\deliveries_processed.csv')"
   ]
  },
  {
   "cell_type": "code",
   "execution_count": 4,
   "metadata": {},
   "outputs": [
    {
     "name": "stderr",
     "output_type": "stream",
     "text": [
      "<>:1: SyntaxWarning: invalid escape sequence '\\d'\n",
      "<>:1: SyntaxWarning: invalid escape sequence '\\d'\n",
      "C:\\Users\\Jai\\AppData\\Local\\Temp\\ipykernel_21932\\2941717181.py:1: SyntaxWarning: invalid escape sequence '\\d'\n",
      "  deliveries.to_parquet(f\"..\\data\\processed\\deliveries.parquet\")\n"
     ]
    }
   ],
   "source": [
    "deliveries.to_parquet(f\"..\\data\\processed\\deliveries.parquet\")"
   ]
  },
  {
   "cell_type": "code",
   "execution_count": 5,
   "metadata": {},
   "outputs": [
    {
     "name": "stderr",
     "output_type": "stream",
     "text": [
      "<>:1: SyntaxWarning: invalid escape sequence '\\d'\n",
      "<>:1: SyntaxWarning: invalid escape sequence '\\d'\n",
      "C:\\Users\\Jai\\AppData\\Local\\Temp\\ipykernel_21932\\742757459.py:1: SyntaxWarning: invalid escape sequence '\\d'\n",
      "  matches = pd.read_csv(f\"..\\data\\processed\\matches_processed.csv\")\n"
     ]
    }
   ],
   "source": [
    "matches = pd.read_csv(f\"..\\data\\processed\\matches_processed.csv\")"
   ]
  },
  {
   "cell_type": "code",
   "execution_count": 6,
   "metadata": {},
   "outputs": [
    {
     "name": "stderr",
     "output_type": "stream",
     "text": [
      "<>:1: SyntaxWarning: invalid escape sequence '\\d'\n",
      "<>:1: SyntaxWarning: invalid escape sequence '\\d'\n",
      "C:\\Users\\Jai\\AppData\\Local\\Temp\\ipykernel_21932\\349173946.py:1: SyntaxWarning: invalid escape sequence '\\d'\n",
      "  matches.to_parquet(f\"..\\data\\processed\\matches.parquet\")\n"
     ]
    }
   ],
   "source": [
    "matches.to_parquet(f\"..\\data\\processed\\matches.parquet\")"
   ]
  }
 ],
 "metadata": {
  "kernelspec": {
   "display_name": "venv",
   "language": "python",
   "name": "python3"
  },
  "language_info": {
   "codemirror_mode": {
    "name": "ipython",
    "version": 3
   },
   "file_extension": ".py",
   "mimetype": "text/x-python",
   "name": "python",
   "nbconvert_exporter": "python",
   "pygments_lexer": "ipython3",
   "version": "3.12.5"
  }
 },
 "nbformat": 4,
 "nbformat_minor": 2
}
